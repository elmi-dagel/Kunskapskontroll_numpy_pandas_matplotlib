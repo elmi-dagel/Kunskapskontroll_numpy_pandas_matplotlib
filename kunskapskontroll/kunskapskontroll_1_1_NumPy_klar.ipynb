{
 "cells": [
  {
   "cell_type": "markdown",
   "id": "dacf74e6",
   "metadata": {},
   "source": [
    "# NumPy"
   ]
  },
  {
   "cell_type": "markdown",
   "id": "01b2bf34",
   "metadata": {},
   "source": [
    "Read the links: https://numpy.org/doc/stable/user/quickstart.html  and https://numpy.org/doc/stable/user/basics.broadcasting.html  before solving the exercises. "
   ]
  },
  {
   "cell_type": "code",
   "execution_count": 14,
   "id": "1f79e4a6",
   "metadata": {},
   "outputs": [
    {
     "name": "stdout",
     "output_type": "stream",
     "text": [
      "Requirement already satisfied: numpy in c:\\users\\mahad\\appdata\\local\\packages\\pythonsoftwarefoundation.python.3.11_qbz5n2kfra8p0\\localcache\\local-packages\\python311\\site-packages (2.1.2)\n"
     ]
    },
    {
     "name": "stderr",
     "output_type": "stream",
     "text": [
      "\n",
      "[notice] A new release of pip is available: 24.0 -> 24.2\n",
      "[notice] To update, run: C:\\Users\\Mahad\\AppData\\Local\\Microsoft\\WindowsApps\\PythonSoftwareFoundation.Python.3.11_qbz5n2kfra8p0\\python.exe -m pip install --upgrade pip\n"
     ]
    }
   ],
   "source": [
    "!pip install numpy\n",
    "\n",
    "import numpy as np"
   ]
  },
  {
   "cell_type": "markdown",
   "id": "7dae6889",
   "metadata": {},
   "source": [
    "### Print out the dimension (number of axes), shape, size and the datatype of the matrix A."
   ]
  },
  {
   "cell_type": "code",
   "execution_count": 3,
   "id": "7b3678cd",
   "metadata": {},
   "outputs": [
    {
     "name": "stdout",
     "output_type": "stream",
     "text": [
      "[[ 1  2  3  4  5]\n",
      " [ 6  7  8  9 10]\n",
      " [11 12 13 14 15]]\n",
      "\n",
      "Dimension: 2\n",
      "Shape: (3, 5)\n",
      "Size: 15\n",
      "Datatype: int64\n"
     ]
    }
   ],
   "source": [
    "A = np.arange(1, 16).reshape(3,5)\n",
    "print(A)\n",
    "print()\n",
    "\n",
    "# Dimension (number of axes)\n",
    "print(\"Dimension:\", np.ndim(A))\n",
    "\n",
    "# Shape\n",
    "print(\"Shape:\", np.shape(A))\n",
    "\n",
    "# Size \n",
    "print(\"Size:\", np.size(A))\n",
    "\n",
    "# Datatype\n",
    "print(\"Datatype:\", A.dtype.name)\n",
    "\n",
    "\n"
   ]
  },
  {
   "cell_type": "markdown",
   "id": "e56d2a96",
   "metadata": {},
   "source": [
    "### Do the following computations on the matrices B and C: \n",
    "* Elementwise subtraction. \n",
    "* Elementwise multiplication. \n",
    "* Matrix multiplication (by default you should use the @ operator)."
   ]
  },
  {
   "cell_type": "code",
   "execution_count": 4,
   "id": "a7053fbb",
   "metadata": {},
   "outputs": [
    {
     "name": "stdout",
     "output_type": "stream",
     "text": [
      "[[1 2 3]\n",
      " [4 5 6]\n",
      " [7 8 9]]\n",
      "\n",
      "[[2. 2. 2.]\n",
      " [2. 2. 2.]\n",
      " [2. 2. 2.]]\n",
      "\n",
      "[[-1.  0.  1.]\n",
      " [ 2.  3.  4.]\n",
      " [ 5.  6.  7.]]\n",
      "\n",
      "[[ 2.  4.  6.]\n",
      " [ 8. 10. 12.]\n",
      " [14. 16. 18.]]\n",
      "\n",
      "[[12. 12. 12.]\n",
      " [30. 30. 30.]\n",
      " [48. 48. 48.]]\n"
     ]
    }
   ],
   "source": [
    "B = np.arange(1, 10).reshape(3, 3)\n",
    "C = np.ones((3, 3))*2\n",
    "\n",
    "print(B)\n",
    "print()\n",
    "print(C)\n",
    "print()\n",
    "\n",
    "subtraction = B - C\n",
    "print(subtraction)\n",
    "print()\n",
    "\n",
    "multiplication = B * C\n",
    "print(multiplication)\n",
    "print()\n",
    "\n",
    "matrix_multiplication = B @ C\n",
    "print(matrix_multiplication)\n",
    "\n",
    "\n"
   ]
  },
  {
   "cell_type": "markdown",
   "id": "96030d53",
   "metadata": {},
   "source": [
    "### Do the following calculations on the matrix:\n",
    "* Exponentiate each number elementwise (use the np.exp function).\n",
    "\n",
    "* Calculate the minimum value in the whole matrix. \n",
    "* Calculcate the minimum value in each row. \n",
    "* Calculcate the minimum value in each column. \n",
    "\n",
    "\n",
    "* Find the index value for the minimum value in the whole matrix (hint: use np.argmin).\n",
    "* Find the index value for the minimum value in each row (hint: use np.argmin).\n",
    "\n",
    "\n",
    "* Calculate the sum for all elements.\n",
    "* Calculate the mean for each column. \n",
    "* Calculate the median for each column. "
   ]
  },
  {
   "cell_type": "code",
   "execution_count": 5,
   "id": "f8a9166b",
   "metadata": {},
   "outputs": [
    {
     "name": "stdout",
     "output_type": "stream",
     "text": [
      "[[1 2 3]\n",
      " [4 5 6]\n",
      " [7 8 9]]\n",
      "\n",
      "[[2.71828183e+00 7.38905610e+00 2.00855369e+01]\n",
      " [5.45981500e+01 1.48413159e+02 4.03428793e+02]\n",
      " [1.09663316e+03 2.98095799e+03 8.10308393e+03]]\n",
      "\n",
      "1\n",
      "\n",
      "[1 4 7]\n",
      "\n",
      "[1 2 3]\n",
      "\n",
      "0\n",
      "\n",
      "[0 0 0]\n",
      "\n",
      "45\n",
      "\n",
      "[4. 5. 6.]\n",
      "\n",
      "[4. 5. 6.]\n"
     ]
    }
   ],
   "source": [
    "B = np.arange(1, 10).reshape(3, 3)\n",
    "print(B)\n",
    "print()\n",
    "\n",
    "# Exponentiate each element in the matrix\n",
    "np.exp(B)\n",
    "print(np.exp(B))\n",
    "print()\n",
    "\n",
    "# Minimum value in the whole matrix\n",
    "min_value = np.min(B)\n",
    "print(min_value)\n",
    "print()\n",
    "\n",
    "# Minimum value in each row\n",
    "min_value_per_row = np.min(B, axis=1)\n",
    "print(min_value_per_row)\n",
    "print()\n",
    "\n",
    "# Minimum value in each column\n",
    "min_value_per_column = np.min(B, axis=0)\n",
    "print(min_value_per_column)\n",
    "print()\n",
    "\n",
    "# Index of the minimum value in the whole matrix\n",
    "min_index = np.argmin(B)\n",
    "print(min_index)\n",
    "print()\n",
    "\n",
    "# Index of the minimum value in each row\n",
    "min_index_per_row = np.argmin(B, axis=1)\n",
    "print(min_index_per_row)\n",
    "print()\n",
    "\n",
    "# Sum of all elements in the matrix\n",
    "sum_of_elements = np.sum(B)\n",
    "print(sum_of_elements)\n",
    "print()\n",
    "\n",
    "# Mean for each column\n",
    "mean_per_column = np.mean(B, axis=0)\n",
    "print(mean_per_column)\n",
    "print()\n",
    "\n",
    "# Median for each column\n",
    "median_per_column = np.median(B, axis=0)\n",
    "print(median_per_column)\n",
    "\n"
   ]
  },
  {
   "cell_type": "markdown",
   "id": "541eb7ba",
   "metadata": {},
   "source": [
    "### What does it mean when you provide fewer indices than axes when slicing? See example below."
   ]
  },
  {
   "cell_type": "code",
   "execution_count": 31,
   "id": "9c8abf56",
   "metadata": {},
   "outputs": [
    {
     "name": "stdout",
     "output_type": "stream",
     "text": [
      "[[ 1  2  3  4  5]\n",
      " [ 6  7  8  9 10]\n",
      " [11 12 13 14 15]]\n"
     ]
    }
   ],
   "source": [
    "print(A)"
   ]
  },
  {
   "cell_type": "code",
   "execution_count": 34,
   "id": "69415f7b",
   "metadata": {},
   "outputs": [
    {
     "data": {
      "text/plain": [
       "array([ 6,  7,  8,  9, 10])"
      ]
     },
     "execution_count": 34,
     "metadata": {},
     "output_type": "execute_result"
    }
   ],
   "source": [
    "A[1]\n"
   ]
  },
  {
   "cell_type": "markdown",
   "id": "6c53541b",
   "metadata": {},
   "source": [
    "**Answer:**"
   ]
  },
  {
   "cell_type": "code",
   "execution_count": null,
   "id": "de01e120",
   "metadata": {},
   "outputs": [],
   "source": [
    "\n",
    "Om du skriver färre index än antalet dimensioner i en numpy-array så visar numpy automatiskt allt för de delar du inte specificerat.\n",
    "A[1] visar hela raden på plats 1, alltså [6, 7, 8, 9, 10]. Eftersom man bara skrev radnumret, så tar numpy med alla kolumner för den raden.\n",
    "\n",
    "\n",
    "\n"
   ]
  },
  {
   "cell_type": "markdown",
   "id": "6652d0c9",
   "metadata": {},
   "source": [
    "### Iterating over multidimensional arrays is done with respect to the first axis, so in the example below we iterate trough the rows. If you would like to iterate through the array *elementwise*, how would you do that?"
   ]
  },
  {
   "cell_type": "code",
   "execution_count": 35,
   "id": "9459864f",
   "metadata": {},
   "outputs": [
    {
     "data": {
      "text/plain": [
       "array([[ 1,  2,  3,  4,  5],\n",
       "       [ 6,  7,  8,  9, 10],\n",
       "       [11, 12, 13, 14, 15]])"
      ]
     },
     "execution_count": 35,
     "metadata": {},
     "output_type": "execute_result"
    }
   ],
   "source": [
    "A"
   ]
  },
  {
   "cell_type": "code",
   "execution_count": 6,
   "id": "a671bb5a",
   "metadata": {},
   "outputs": [
    {
     "name": "stdout",
     "output_type": "stream",
     "text": [
      "[1 2 3 4 5]\n",
      "[ 6  7  8  9 10]\n",
      "[11 12 13 14 15]\n"
     ]
    }
   ],
   "source": [
    "for i in A:\n",
    "    print(i)"
   ]
  },
  {
   "cell_type": "code",
   "execution_count": 7,
   "id": "f4e443a0",
   "metadata": {},
   "outputs": [
    {
     "name": "stdout",
     "output_type": "stream",
     "text": [
      "1\n",
      "2\n",
      "3\n",
      "4\n",
      "5\n",
      "6\n",
      "7\n",
      "8\n",
      "9\n",
      "10\n",
      "11\n",
      "12\n",
      "13\n",
      "14\n",
      "15\n"
     ]
    }
   ],
   "source": [
    "A = np.array(A)\n",
    "\n",
    "for element in np.nditer(A):\n",
    "    print(element)\n"
   ]
  },
  {
   "cell_type": "markdown",
   "id": "608a2583",
   "metadata": {},
   "source": [
    "### Explain what the code below does. More specifically, b has three axes - what does this mean? "
   ]
  },
  {
   "cell_type": "code",
   "execution_count": 8,
   "id": "f8f9b26f",
   "metadata": {},
   "outputs": [
    {
     "name": "stdout",
     "output_type": "stream",
     "text": [
      "[ 0  1  2  3  4  5  6  7  8  9 10 11 12 13 14 15 16 17 18 19 20 21 22 23\n",
      " 24 25 26 27 28 29]\n",
      "\n",
      "[[[ 0  1  2  3  4]\n",
      "  [ 5  6  7  8  9]\n",
      "  [10 11 12 13 14]]\n",
      "\n",
      " [[15 16 17 18 19]\n",
      "  [20 21 22 23 24]\n",
      "  [25 26 27 28 29]]]\n"
     ]
    }
   ],
   "source": [
    "a = np.arange(30)\n",
    "b = a.reshape((2, 3, -1))\n",
    "print(a)\n",
    "print()\n",
    "\n",
    "print(b)"
   ]
  },
  {
   "cell_type": "code",
   "execution_count": null,
   "id": "863a45df",
   "metadata": {},
   "outputs": [],
   "source": [
    "Svar:\n",
    "Koden skapar en 1D array a med siffrorna från 0 till 29. Sedan omformas a till en 3D array b med formen (2, 3, 5):\n",
    "\n",
    "b har 3 axlar:\n",
    "- Den första axeln har 2 lager.\n",
    "- Den andra axeln har 3 rader i varje lager.\n",
    "- Den tredje axeln har 5 kolumner i varje rad.\n",
    "\n",
    "b är en 3D array med 2 lager, där varje lager har 3 rader och 5 kolumner.\n",
    "\n"
   ]
  },
  {
   "cell_type": "markdown",
   "id": "ab5933d5",
   "metadata": {},
   "source": [
    "### Broadcasting\n",
    "**Read the following link about broadcasting: https://numpy.org/doc/stable/user/basics.broadcasting.html#basics-broadcasting**"
   ]
  },
  {
   "cell_type": "markdown",
   "id": "039805ba",
   "metadata": {},
   "source": [
    "# Remark on Broadcasting when doing Linear Algebra calculations in Python. "
   ]
  },
  {
   "cell_type": "markdown",
   "id": "c4bcc147",
   "metadata": {},
   "source": [
    "### From the mathematical rules of matrix addition, the operation below (m1 + m2) does not make sense. The reason is that matrix addition requires two matrices of the same size. In Python however, it works due to broadcasting rules in NumPy. So you must be careful when doing Linear Algebra calculations in Python since they do not follow the \"mathematical rules\". This can however easily be handled by doing some simple programming, for example validating that two matrices have the same shape is easy if you for instance want to add two matrices. "
   ]
  },
  {
   "cell_type": "code",
   "execution_count": 9,
   "id": "1fd46778",
   "metadata": {},
   "outputs": [
    {
     "name": "stdout",
     "output_type": "stream",
     "text": [
      "[[2 3]\n",
      " [4 5]]\n"
     ]
    }
   ],
   "source": [
    "m1 = np.array([[1, 2], [3, 4]])\n",
    "m2 = np.array([1, 1])\n",
    "print(m1 + m2)"
   ]
  },
  {
   "cell_type": "markdown",
   "id": "047d6576",
   "metadata": {},
   "source": [
    "### The example below would also not be allowed if following the \"mathematical rules\" in Linear Algebra. But it works due to broadcasting in NumPy. "
   ]
  },
  {
   "cell_type": "code",
   "execution_count": 10,
   "id": "5e6ef2e4",
   "metadata": {},
   "outputs": [
    {
     "name": "stdout",
     "output_type": "stream",
     "text": [
      "[2 3 4]\n"
     ]
    }
   ],
   "source": [
    "v1 = np.array([1, 2, 3])\n",
    "print(v1 + 1)"
   ]
  },
  {
   "cell_type": "code",
   "execution_count": 11,
   "id": "e2cbae26",
   "metadata": {},
   "outputs": [
    {
     "name": "stdout",
     "output_type": "stream",
     "text": [
      "[[1 2]\n",
      " [3 4]]\n",
      "[2 2]\n"
     ]
    }
   ],
   "source": [
    "A = np.arange(1, 5).reshape(2,2)\n",
    "print(A)\n",
    "\n",
    "b = np.array([2, 2])\n",
    "print(b)"
   ]
  },
  {
   "cell_type": "markdown",
   "id": "722fd5cd",
   "metadata": {},
   "source": [
    "# Vector- and matrix algebra Exercises"
   ]
  },
  {
   "cell_type": "markdown",
   "id": "b63a3081-d976-4d9f-bfd0-a63917e79f7d",
   "metadata": {},
   "source": [
    "**Now you are going to create a function that can be reused every time you add or multiply matrices. The function is created so that we do the addition and multiplication according to the rules of vector- and matrix algebra.**\n",
    "\n",
    "**Create a function \"add_mult_matrices\" that takes two matrices as input arguments (validate that the input are of the type numpy.ndarray by using the isinstance function), a third argument that is either 'add' or 'multiply' that specifies if you want to add or multiply the matrices (validate that the third argument is either 'add' or 'multiply'). When doing matrix addition, validate that the matrices have the same size. When doing matrix multiplication, validate that the sizes conform (i.e. number of columns in the first matrix is equal to the number of rows in the second matrix).**"
   ]
  },
  {
   "cell_type": "code",
   "execution_count": 12,
   "id": "3506f977-ac0a-473f-85bc-eec9f35dc498",
   "metadata": {},
   "outputs": [
    {
     "name": "stdout",
     "output_type": "stream",
     "text": [
      "Svar addition:\n",
      "[[ 6  8]\n",
      " [10 12]]\n",
      "\n",
      "Svar multiplication:\n",
      "[[19 22]\n",
      " [43 50]]\n"
     ]
    }
   ],
   "source": [
    "def add_mult_matrices(matrix1, matrix2, operation):\n",
    "    # numpy arrays\n",
    "    if not isinstance(matrix1, np.ndarray) or not isinstance(matrix2, np.ndarray):\n",
    "        print(\"Error\")\n",
    "        return\n",
    "    \n",
    "    # add' or 'multiply\n",
    "    if operation not in ['add', 'multiply']:\n",
    "        print(\"Error\")\n",
    "        return\n",
    "    \n",
    "    # adding matrices\n",
    "    if operation == 'add':\n",
    "        if matrix1.shape != matrix2.shape:\n",
    "            print(\"Error\")\n",
    "            return\n",
    "        result = matrix1 + matrix2\n",
    "        print(\"Svar addition:\")\n",
    "        print(result)\n",
    "    \n",
    "    # multiplying matrices\n",
    "    elif operation == 'multiply':\n",
    "        if matrix1.shape[1] != matrix2.shape[0]:\n",
    "            print(\"Error\")\n",
    "            return\n",
    "        result = matrix1 @ matrix2\n",
    "        print(\"Svar multiplication:\")\n",
    "        print(result)\n",
    "\n",
    "# Example:\n",
    "A = np.array([[1, 2], [3, 4]])\n",
    "B = np.array([[5, 6], [7, 8]])\n",
    "\n",
    "# addition:\n",
    "add_mult_matrices(A, B, 'add')\n",
    "print()\n",
    "# multiplication:\n",
    "add_mult_matrices(A, B, 'multiply')\n",
    "\n"
   ]
  },
  {
   "cell_type": "markdown",
   "id": "8dad82d0-2359-4dff-8f5b-a57d3e34103c",
   "metadata": {},
   "source": [
    "### Solve all the exercises in chapter 10.1 in the book \"Matematik för yrkeshögskolan\". "
   ]
  },
  {
   "cell_type": "code",
   "execution_count": 3,
   "id": "cbd200f9",
   "metadata": {},
   "outputs": [
    {
     "name": "stdout",
     "output_type": "stream",
     "text": [
      "uppgift 10.1.1\n",
      "a) Dimensionen av x: 2\n",
      "b) 5x = [20 15]\n",
      "c) 3x = [12  9]\n",
      "d) 5x + 3x = [32 24]\n",
      "e) 8x = [32 24]\n",
      "f) 4x - x = [12  9]\n",
      "g) x^T = [4 3]\n",
      "h) x + x^T = \n",
      "[8 6]\n",
      "i) ||x|| = 5.0\n",
      "\n",
      "a) Dimensionen av v: 4\n",
      "b) 2v = [ 6 14  0 22]\n",
      "c) 5v + 2v = [21 49  0 77]\n",
      "d) 4v - 2v = [ 6 14  0 22]\n",
      "e) v^T = [[ 3]\n",
      " [ 7]\n",
      " [ 0]\n",
      " [11]]\n",
      "Dimension efter transponering: (4, 1)\n",
      "f)13.379088160259652\n",
      "\n",
      "uppgift 10.1.3\n",
      "a)7.14142842854285\n",
      "b)4.47213595499958\n"
     ]
    }
   ],
   "source": [
    "## Uppgift 10.1.1\n",
    "\n",
    "# Definiera vektorn x\n",
    "x = np.array([4, 3])\n",
    "print(\"uppgift 10.1.1\")\n",
    "# a) Vilken dimension har vektorn x?\n",
    "print(f\"a) Dimensionen av x: {len(x)}\")\n",
    "\n",
    "# b) Beräkna 5x\n",
    "five_x = 5 * x\n",
    "print(f\"b) 5x = {five_x}\")\n",
    "\n",
    "# c) Beräkna 3x\n",
    "three_x = 3 * x\n",
    "print(f\"c) 3x = {three_x}\")\n",
    "\n",
    "# d) Beräkna 5x + 3x\n",
    "sum_x = five_x + three_x\n",
    "print(f\"d) 5x + 3x = {sum_x}\")\n",
    "\n",
    "# e) Beräkna 8x\n",
    "eight_x = 8 * x\n",
    "print(f\"e) 8x = {eight_x}\")\n",
    "\n",
    "# f) Beräkna 4x - x\n",
    "four_x_minus_x = 4 * x - x\n",
    "print(f\"f) 4x - x = {four_x_minus_x}\")\n",
    "\n",
    "# g) Beräkna x^T (transponering av x)\n",
    "x_transpose = x.T  # Transponera x\n",
    "print(f\"g) x^T = {x_transpose}\")\n",
    "\n",
    "\n",
    "\n",
    "# h) Är x + x^T definierat?\n",
    "if x.shape == x_transpose.shape:\n",
    "    result = x + x_transpose\n",
    "    print(f\"h) x + x^T = \\n{result}\")\n",
    "else:\n",
    "    print(\"h) x + x^T är inte definierat (olika dimensioner)\")\n",
    "\n",
    "\n",
    "# i) Beräkna ||x|| (normen av x)\n",
    "norm_x = np.linalg.norm(x)\n",
    "print(f\"i) ||x|| = {norm_x}\")\n",
    "print()\n",
    "\n",
    "## Uppgift 10.1.2\n",
    "# Definiera vektorn v\n",
    "v = np.array([3, 7, 0, 11])\n",
    "\n",
    "# a) Vilken dimension har vektorn v?\n",
    "print(f\"a) Dimensionen av v: {len(v)}\")\n",
    "\n",
    "# b) Beräkna 2v\n",
    "two_v = 2 * v\n",
    "print(f\"b) 2v = {two_v}\")\n",
    "\n",
    "# c) Beräkna 5v + 2v\n",
    "result_c = 5 * v + 2 * v\n",
    "print(f\"c) 5v + 2v = {result_c}\")\n",
    "\n",
    "# d) Beräkna 4v - 2v\n",
    "result_d = 4 * v - 2 * v\n",
    "print(f\"d) 4v - 2v = {result_d}\")\n",
    "\n",
    "# e) Transponering av v\n",
    "v_transpose = v.reshape(-1, 1)  # Omvandla till en kolumnvektor\n",
    "print(f\"e) v^T = {v_transpose}\")\n",
    "print(f\"Dimension efter transponering: {v_transpose.shape}\")\n",
    "\n",
    "# f) \n",
    "norm_v = np.linalg.norm(v)\n",
    "print(f\"f){norm_v}\")\n",
    "print()\n",
    "\n",
    "# Uppgift 10.1.3\n",
    "print(\"uppgift 10.1.3\")\n",
    "# Definiera vektorerna v1 och v2\n",
    "v1 = np.array([4, 3, 1, 5])\n",
    "v2 = np.array([2, 3, 1, 1])\n",
    "\n",
    "# a) Beräkna ||v1|| (normen av v1)\n",
    "norm_v1 = np.linalg.norm(v1)\n",
    "print(f\"a){norm_v1}\")\n",
    "\n",
    "# b) Beräkna ||v1 - v2||\n",
    "# Först subtrahera v1 och v2 elementvis, sedan beräkna normen av skillnaden\n",
    "diff_v1_v2 = v1 - v2\n",
    "norm_diff = np.linalg.norm(diff_v1_v2)\n",
    "print(f\"b){norm_diff}\")\n",
    "\n"
   ]
  },
  {
   "cell_type": "markdown",
   "id": "75c98984-1f88-4df1-b850-d2466de444a5",
   "metadata": {},
   "source": [
    "### Solve all the exercises, except 10.2.4, in chapter 10.2 in the book \"Matematik för yrkeshögskolan\". "
   ]
  },
  {
   "cell_type": "markdown",
   "id": "6a4a524f",
   "metadata": {},
   "source": [
    "### Copies and Views\n",
    "Read the following link: https://numpy.org/doc/stable/user/basics.copies.html"
   ]
  },
  {
   "cell_type": "markdown",
   "id": "6cbbeaf7",
   "metadata": {},
   "source": [
    "**Basic indexing creates a view, How can you check if v1 and v2 is a view or copy? If you change the last element in v2 to 123, will the last element in v1 be changed? Why?**"
   ]
  },
  {
   "cell_type": "code",
   "execution_count": 67,
   "id": "5b9ef4df",
   "metadata": {},
   "outputs": [
    {
     "name": "stdout",
     "output_type": "stream",
     "text": [
      "Before changing: [0 1 2 3]\n",
      "Before changing: [2 3]\n",
      "\n",
      "After changing the last element in v2:\n",
      "v1: [  0   1   2 123]\n",
      "v2: [  2 123]\n"
     ]
    }
   ],
   "source": [
    "v1 = np.arange(4)\n",
    "v2 = v1[-2:]\n",
    "print('Before changing:', v1)\n",
    "print('Before changing:', v2)\n",
    "\n",
    "# Change the last element in v2\n",
    "v2[-1] = 123\n",
    "\n",
    "print(\"\\nAfter changing the last element in v2:\")\n",
    "print(\"v1:\", v1)\n",
    "print(\"v2:\", v2)\n"
   ]
  },
  {
   "cell_type": "code",
   "execution_count": 45,
   "id": "d2440489",
   "metadata": {},
   "outputs": [
    {
     "name": "stdout",
     "output_type": "stream",
     "text": [
      "None\n",
      "[0 1 2 3]\n"
     ]
    }
   ],
   "source": [
    "# The base attribute of a view returns the original array while it returns None for a copy.\n",
    "print(v1.base)\n",
    "print(v2.base)\n",
    "\n",
    "v1 = np.arange(4)  # v1 is a numpy array [0, 1, 2, 3]\n",
    "v2 = v1[-2:]       # v2 is a slice of the last two elements of v1\n",
    "\n",
    "print(v1.base)  \n",
    "print(v2.base)  \n"
   ]
  },
  {
   "cell_type": "code",
   "execution_count": 68,
   "id": "c8752807",
   "metadata": {},
   "outputs": [
    {
     "name": "stdout",
     "output_type": "stream",
     "text": [
      "[  0   1   2 123]\n",
      "[  2 123]\n"
     ]
    }
   ],
   "source": [
    "# The last element in v1 will be changed aswell since v2 is a view, meaning they share the same data buffer.\n",
    "v2[-1] = 123\n",
    "print(v1)\n",
    "print(v2)"
   ]
  },
  {
   "cell_type": "code",
   "execution_count": null,
   "id": "3dd68221",
   "metadata": {},
   "outputs": [],
   "source": []
  }
 ],
 "metadata": {
  "kernelspec": {
   "display_name": "Python 3",
   "language": "python",
   "name": "python3"
  },
  "language_info": {
   "codemirror_mode": {
    "name": "ipython",
    "version": 3
   },
   "file_extension": ".py",
   "mimetype": "text/x-python",
   "name": "python",
   "nbconvert_exporter": "python",
   "pygments_lexer": "ipython3",
   "version": "3.11.9"
  }
 },
 "nbformat": 4,
 "nbformat_minor": 5
}
